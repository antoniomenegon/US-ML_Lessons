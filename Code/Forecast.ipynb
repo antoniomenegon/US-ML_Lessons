{
  "nbformat": 4,
  "nbformat_minor": 0,
  "metadata": {
    "accelerator": "GPU",
    "colab": {
      "name": "Forecast.ipynb",
      "provenance": [],
      "private_outputs": true,
      "collapsed_sections": [
        "vidayERjaO5q",
        "UtZ71zymZRnw"
      ],
      "toc_visible": true,
      "include_colab_link": true
    },
    "kernelspec": {
      "display_name": "Python 3",
      "name": "python3"
    }
  },
  "cells": [
    {
      "cell_type": "markdown",
      "metadata": {
        "id": "view-in-github",
        "colab_type": "text"
      },
      "source": [
        "<a href=\"https://colab.research.google.com/github/antoniomenegon/US-ML_Lessons/blob/master/Code/Forecast.ipynb\" target=\"_parent\"><img src=\"https://colab.research.google.com/assets/colab-badge.svg\" alt=\"Open In Colab\"/></a>"
      ]
    },
    {
      "cell_type": "markdown",
      "metadata": {
        "colab_type": "text",
        "id": "E5VI4y76i14x"
      },
      "source": [
        "# Simple Time Series forecasting\n",
        "\n",
        "In this example notebook, we will try to predict a simple time series with 3 different ML models:\n",
        "\n",
        "\n",
        "1.   Simple ANN\n",
        "2.   LSTM\n",
        "3.   CNN\n",
        "\n",
        "Given this, the notebook consists in:\n",
        "\n",
        "\n",
        "*   A first section, with all the setups and the relevant preprocessing\n",
        "*   A section where all the different models are presented and implemented\n",
        "*   A final section, with the comparison of all the different models analsysed\n",
        "\n",
        "\n",
        "\n",
        "\n",
        "\n"
      ]
    },
    {
      "cell_type": "markdown",
      "metadata": {
        "id": "kPDSuyfxAa1J",
        "colab_type": "text"
      },
      "source": [
        "## Preliminaries\n",
        "\n",
        "In this section, we will setup all the imports and utilities used later on."
      ]
    },
    {
      "cell_type": "markdown",
      "metadata": {
        "colab_type": "text",
        "id": "vidayERjaO5q"
      },
      "source": [
        "### Setup"
      ]
    },
    {
      "cell_type": "code",
      "metadata": {
        "colab_type": "code",
        "id": "mhVOzQDY1l4T",
        "colab": {}
      },
      "source": [
        "try:\n",
        "  # Use the %tensorflow_version magic if in colab.\n",
        "  %tensorflow_version 2.x\n",
        "except Exception:\n",
        "  pass"
      ],
      "execution_count": 0,
      "outputs": []
    },
    {
      "cell_type": "code",
      "metadata": {
        "colab_type": "code",
        "id": "gqWabzlJ63nL",
        "colab": {}
      },
      "source": [
        "import numpy as np\n",
        "import pandas as pd\n",
        "import matplotlib.pyplot as plt\n",
        "import os\n",
        "import datetime\n",
        "import tensorflow as tf\n",
        "\n",
        "keras = tf.keras\n",
        "%load_ext tensorboard"
      ],
      "execution_count": 0,
      "outputs": []
    },
    {
      "cell_type": "markdown",
      "metadata": {
        "id": "UtZ71zymZRnw",
        "colab_type": "text"
      },
      "source": [
        "### Utilities"
      ]
    },
    {
      "cell_type": "code",
      "metadata": {
        "id": "EGA24Ue2rpCU",
        "colab_type": "code",
        "colab": {}
      },
      "source": [
        "class TimeSeries(object):\n",
        "\n",
        "  def __init__(self, time, slope, baseline, amplitude, noise_level, period, phase=0):\n",
        "    self.time = time\n",
        "    self.slope = slope\n",
        "    self.baseline = baseline\n",
        "    self.amplitude = amplitude\n",
        "    self.noise_level = noise_level\n",
        "    self.period = period\n",
        "    self.phase = phase\n",
        "    self.seed = 42\n",
        "\n",
        "  def get_time_series(self):\n",
        "    return self.baseline + self._trend() + self._seasonality() + self._white_noise()\n",
        "\n",
        "  def _trend(self):\n",
        "    return self.slope * self.time\n",
        "\n",
        "  @staticmethod\n",
        "  def _seasonal_pattern(season_time):\n",
        "    return np.where(season_time < 0.4,\n",
        "                    np.cos(season_time * 2 * np.pi),\n",
        "                    1 / np.exp(3 * season_time))\n",
        "    \n",
        "  def _seasonality(self):\n",
        "    season_time = ((self.time + self.phase) % self.period) / self.period\n",
        "    return self.amplitude * self._seasonal_pattern(season_time)\n",
        "  \n",
        "  def _white_noise(self):\n",
        "    rnd = np.random.RandomState(self.seed)\n",
        "    return rnd.randn(len(self.time)) * self.noise_level"
      ],
      "execution_count": 0,
      "outputs": []
    },
    {
      "cell_type": "code",
      "metadata": {
        "id": "FWynVYsGQ-sA",
        "colab_type": "code",
        "colab": {}
      },
      "source": [
        "class Normalizer:\n",
        "\n",
        "  def __init__(self):\n",
        "    self.mean = None\n",
        "    self.std = None\n",
        "\n",
        "  def fit(self, data):\n",
        "    self.mean = data.mean()\n",
        "    self.std = data.std()\n",
        "  \n",
        "  def transform(self, data):\n",
        "    return (data - self.mean)/self.std\n",
        "\n",
        "  def inverse_transform(self, data):\n",
        "    return data*self.std + self.mean"
      ],
      "execution_count": 0,
      "outputs": []
    },
    {
      "cell_type": "code",
      "metadata": {
        "colab_type": "code",
        "id": "cg1hfKCPldZG",
        "colab": {}
      },
      "source": [
        "def plot_series(time, series, prediction=None, label=None,\n",
        "                format=\"-\", start=0, end=None):\n",
        "    if prediction is None:\n",
        "      plt.plot(time[start:end], series[start:end], format)\n",
        "    else:\n",
        "      plt.plot(time[start:end], series[start:end], format, label=label[0])\n",
        "      plt.plot(time[start:end], prediction[start:end], format, label=label[1])\n",
        "      plt.legend(fontsize=14)\n",
        "    plt.xlabel(\"Time\")\n",
        "    plt.ylabel(\"Value\")\n",
        "    plt.grid(True)\n",
        "  \n",
        "\n",
        "def sequential_window_dataset(series, window_size):\n",
        "    series = tf.expand_dims(series, axis=-1)\n",
        "    ds = tf.data.Dataset.from_tensor_slices(series)\n",
        "    ds = ds.window(window_size + 1, shift=window_size, drop_remainder=True)\n",
        "    ds = ds.flat_map(lambda window: window.batch(window_size + 1))\n",
        "    ds = ds.map(lambda window: (window[:-1], window[1:]))\n",
        "    return ds.batch(1).prefetch(1)\n",
        "\n",
        "\n",
        "def data_split(data, time, split_portion):\n",
        "  n = len(data)\n",
        "  split_time = int(split_portion*n)\n",
        "  time_train = time[:split_time]\n",
        "  x_train = series[:split_time]\n",
        "  time_valid = time[split_time:]\n",
        "  x_valid = series[split_time:]\n",
        "  return x_train, time_train, x_valid, time_valid"
      ],
      "execution_count": 0,
      "outputs": []
    },
    {
      "cell_type": "code",
      "metadata": {
        "id": "QBZBu_o_4C8d",
        "colab_type": "code",
        "colab": {}
      },
      "source": [
        "def tb_log_path(name):\n",
        "  return os.path.join(\"logs\", name)"
      ],
      "execution_count": 0,
      "outputs": []
    },
    {
      "cell_type": "markdown",
      "metadata": {
        "id": "NzIa9I5sZUrc",
        "colab_type": "text"
      },
      "source": [
        "### Data"
      ]
    },
    {
      "cell_type": "code",
      "metadata": {
        "id": "SmTbIqfUss1h",
        "colab_type": "code",
        "colab": {}
      },
      "source": [
        "time = np.arange(4 * 365 + 1)\n",
        "slope = 0.05\n",
        "baseline = 10\n",
        "amplitude = 40\n",
        "period = 365\n",
        "noise_level = 5\n",
        "seed=42\n",
        "\n",
        "series = TimeSeries(time,\n",
        "                    slope,\n",
        "                    baseline,\n",
        "                    amplitude,\n",
        "                    noise_level,\n",
        "                    period).get_time_series()\n",
        "\n",
        "plt.figure(figsize=(10, 6))\n",
        "plot_series(time, series)\n",
        "plt.show()"
      ],
      "execution_count": 0,
      "outputs": []
    },
    {
      "cell_type": "code",
      "metadata": {
        "id": "j_PP_8BQbPUn",
        "colab_type": "code",
        "colab": {}
      },
      "source": [
        "SPLIT = .70\n",
        "x_train, time_train, x_valid, time_valid = data_split(series, time, SPLIT)"
      ],
      "execution_count": 0,
      "outputs": []
    },
    {
      "cell_type": "code",
      "metadata": {
        "id": "j-8nLskYyq0-",
        "colab_type": "code",
        "colab": {}
      },
      "source": [
        "WINDOW_SIZE = 30\n",
        "train_set = sequential_window_dataset(x_train, WINDOW_SIZE)\n",
        "valid_set = sequential_window_dataset(x_valid, WINDOW_SIZE)"
      ],
      "execution_count": 0,
      "outputs": []
    },
    {
      "cell_type": "markdown",
      "metadata": {
        "id": "i6EQzcBuB-tN",
        "colab_type": "text"
      },
      "source": [
        "## Models\n",
        "\n",
        "In this section, the different models are implemented and investigated.\n",
        "\n",
        "Before doing so, we introduce some settings used later on."
      ]
    },
    {
      "cell_type": "markdown",
      "metadata": {
        "id": "0yGRw7QeD7fa",
        "colab_type": "text"
      },
      "source": [
        "### Hyperparameters and Configurations\n",
        "\n",
        "Objects that collect the hyperparameters and the main configurations used in the training phase."
      ]
    },
    {
      "cell_type": "code",
      "metadata": {
        "id": "1MqcHVbaEBnx",
        "colab_type": "code",
        "colab": {}
      },
      "source": [
        "class HParams(object):\n",
        "\n",
        "  def __init__(self):\n",
        "    self.LAYERS_DIM = []\n",
        "    self.FILTERS = []\n",
        "    self.KERNEL_SIZE = []\n",
        "    self.STRIDES = None\n",
        "\n",
        "\n",
        "class TrainConfigs(object):\n",
        "\n",
        "  def __init__(self):\n",
        "    self.EPOCHS = 100\n",
        "    self.LOSS = None\n",
        "    self.CALLBACKS = []\n",
        "    self.METRICS = []\n",
        "    self.OPTIMIZER = None"
      ],
      "execution_count": 0,
      "outputs": []
    },
    {
      "cell_type": "markdown",
      "metadata": {
        "id": "lGML_KKEETGK",
        "colab_type": "text"
      },
      "source": [
        "Callbacks used during training"
      ]
    },
    {
      "cell_type": "code",
      "metadata": {
        "id": "fA5YILDOEbFk",
        "colab_type": "code",
        "colab": {}
      },
      "source": [
        "class ResetStatesCallback(keras.callbacks.Callback):\n",
        "    def on_epoch_begin(self, epoch, logs):\n",
        "        self.model.reset_states()\n",
        "\n",
        "def model_checkpoint(name):\n",
        "  return keras.callbacks.ModelCheckpoint(name+\".h5\", save_best_only=True)\n",
        "    \n",
        "def early_stopping(patience=50):\n",
        "  return keras.callbacks.EarlyStopping(patience=patience)\n",
        "\n",
        "def lr_schedule():\n",
        "  return keras.callbacks.LearningRateScheduler(\n",
        "            lambda epoch: 1e-8 * 10**(epoch / 20))\n",
        "\n",
        "def tensorboard_callback(name):\n",
        "  logdir = os.path.join(\"logs\", name, datetime.datetime.now().strftime(\"%Y%m%d-%H%M%S\"))\n",
        "  return tf.keras.callbacks.TensorBoard(logdir, histogram_freq=1)"
      ],
      "execution_count": 0,
      "outputs": []
    },
    {
      "cell_type": "markdown",
      "metadata": {
        "id": "NuXo7cOX54Dp",
        "colab_type": "text"
      },
      "source": [
        "Dictionary to store all the relevant comparisons"
      ]
    },
    {
      "cell_type": "code",
      "metadata": {
        "id": "diNWBPWhGm4I",
        "colab_type": "code",
        "colab": {}
      },
      "source": [
        "mae = {}"
      ],
      "execution_count": 0,
      "outputs": []
    },
    {
      "cell_type": "markdown",
      "metadata": {
        "id": "UJJNCPw6Eoj0",
        "colab_type": "text"
      },
      "source": [
        "### Simple ANN"
      ]
    },
    {
      "cell_type": "markdown",
      "metadata": {
        "id": "mBvyoXJLGado",
        "colab_type": "text"
      },
      "source": [
        "#### Model definition"
      ]
    },
    {
      "cell_type": "code",
      "metadata": {
        "id": "UEhPx0BPGc8s",
        "colab_type": "code",
        "colab": {}
      },
      "source": [
        "def build_model(hparams, log_summary=True):\n",
        "  \n",
        "  keras.backend.clear_session()\n",
        "  tf.random.set_seed(42)\n",
        "  np.random.seed(42)\n",
        "\n",
        "  num_layers = len(hparams.LAYERS_DIM)\n",
        "\n",
        "  model = keras.models.Sequential()\n",
        "  model.add(\n",
        "      keras.layers.Dense(hparams.LAYERS_DIM[0],\n",
        "                        batch_input_shape=[1, None, 1])\n",
        "  )\n",
        "  if num_layers > 1:\n",
        "    for dim in hparams.LAYERS_DIM[1:]:\n",
        "      model.add(keras.layers.Dense(dim))\n",
        "  model.add(keras.layers.Lambda(lambda x: x * 200.0))\n",
        "\n",
        "  if log_summary:\n",
        "    print(\"\\n\", model.summary(), \"\\n\")\n",
        "\n",
        "  return model"
      ],
      "execution_count": 0,
      "outputs": []
    },
    {
      "cell_type": "markdown",
      "metadata": {
        "id": "ngBgLQE1xIPf",
        "colab_type": "text"
      },
      "source": [
        "#### Training routine"
      ]
    },
    {
      "cell_type": "code",
      "metadata": {
        "id": "4O3RwHnXxFWq",
        "colab_type": "code",
        "colab": {}
      },
      "source": [
        "def compile_and_train(model, train_ds, configs, valid_ds=None):\n",
        "\n",
        "  model.compile(\n",
        "      loss=configs.LOSS,\n",
        "      optimizer=configs.OPTIMIZER,\n",
        "      metrics=configs.METRICS\n",
        "  )\n",
        "\n",
        "  history = model.fit(\n",
        "      train_ds,\n",
        "      validation_data = valid_ds,\n",
        "      epochs=configs.EPOCHS,\n",
        "      callbacks=configs.CALLBACKS\n",
        "  )\n",
        "\n",
        "  return model, history"
      ],
      "execution_count": 0,
      "outputs": []
    },
    {
      "cell_type": "markdown",
      "metadata": {
        "id": "SZgU9TkMxN9n",
        "colab_type": "text"
      },
      "source": [
        "#### Build and train the model"
      ]
    },
    {
      "cell_type": "markdown",
      "metadata": {
        "id": "T9FAiTMy2048",
        "colab_type": "text"
      },
      "source": [
        "##### Params"
      ]
    },
    {
      "cell_type": "code",
      "metadata": {
        "id": "uJzh1YC1xWmb",
        "colab_type": "code",
        "colab": {}
      },
      "source": [
        "train_configs = TrainConfigs()\n",
        "train_configs.EPOCHS = 100\n",
        "train_configs.LOSS = keras.losses.Huber()\n",
        "train_configs.OPTIMIZER = keras.optimizers.SGD(lr=1e-8, momentum=0.9)\n",
        "train_configs.METRICS = [\"mae\"]\n",
        "train_configs.CALLBACKS = [lr_schedule()]\n",
        "\n",
        "hparams = HParams()\n",
        "hparams.LAYERS_DIM = [100, 1]"
      ],
      "execution_count": 0,
      "outputs": []
    },
    {
      "cell_type": "code",
      "metadata": {
        "id": "l0gWY7k_xgNr",
        "colab_type": "code",
        "colab": {}
      },
      "source": [
        "model = build_model(hparams)"
      ],
      "execution_count": 0,
      "outputs": []
    },
    {
      "cell_type": "markdown",
      "metadata": {
        "id": "qUrYu09mxzP0",
        "colab_type": "text"
      },
      "source": [
        "##### LR fine-tuning\n",
        "Train a first model to search for the best LR ..."
      ]
    },
    {
      "cell_type": "code",
      "metadata": {
        "id": "i_24eMWDxjeR",
        "colab_type": "code",
        "colab": {}
      },
      "source": [
        "model, history = compile_and_train(\n",
        "    model, train_set, train_configs\n",
        ")"
      ],
      "execution_count": 0,
      "outputs": []
    },
    {
      "cell_type": "markdown",
      "metadata": {
        "id": "-3VOfL4IyLPV",
        "colab_type": "text"
      },
      "source": [
        "Check the __training loss__"
      ]
    },
    {
      "cell_type": "code",
      "metadata": {
        "id": "nU7VM-sPyN-_",
        "colab_type": "code",
        "colab": {}
      },
      "source": [
        "plt.semilogx(history.history[\"lr\"], history.history[\"loss\"])\n",
        "#plt.axis([1e-8, 1e-4, 0, 0.05])"
      ],
      "execution_count": 0,
      "outputs": []
    },
    {
      "cell_type": "markdown",
      "metadata": {
        "id": "e1HFv-rwyTUH",
        "colab_type": "text"
      },
      "source": [
        "##### Train the model\n",
        "\n",
        "Train now the model for more epochs, on the \"_fine-tuned_\" LR"
      ]
    },
    {
      "cell_type": "code",
      "metadata": {
        "id": "omop3_-DyUjx",
        "colab_type": "code",
        "colab": {}
      },
      "source": [
        "train_configs.EPOCHS = 500\n",
        "train_configs.OPTIMIZER = keras.optimizers.SGD(lr=1e-6, momentum=0.9)\n",
        "MODEL_NAME = \"ann\"\n",
        "train_configs.CALLBACKS = [model_checkpoint(MODEL_NAME),\n",
        "                           tensorboard_callback(MODEL_NAME),\n",
        "                           early_stopping()]"
      ],
      "execution_count": 0,
      "outputs": []
    },
    {
      "cell_type": "markdown",
      "metadata": {
        "id": "1thwpxZt3jxE",
        "colab_type": "text"
      },
      "source": [
        "Load TensorBoard ..."
      ]
    },
    {
      "cell_type": "code",
      "metadata": {
        "id": "BY26-4Rl35kn",
        "colab_type": "code",
        "colab": {}
      },
      "source": [
        "log_path = tb_log_path(MODEL_NAME)"
      ],
      "execution_count": 0,
      "outputs": []
    },
    {
      "cell_type": "code",
      "metadata": {
        "id": "OLVtj6ec3ntr",
        "colab_type": "code",
        "colab": {}
      },
      "source": [
        "%tensorboard --logdir logs"
      ],
      "execution_count": 0,
      "outputs": []
    },
    {
      "cell_type": "markdown",
      "metadata": {
        "id": "o4VZsGxN3pnL",
        "colab_type": "text"
      },
      "source": [
        "Train"
      ]
    },
    {
      "cell_type": "code",
      "metadata": {
        "id": "nOftRzx7yiFI",
        "colab_type": "code",
        "colab": {}
      },
      "source": [
        "model = build_model(hparams, False)\n",
        "model, history = compile_and_train(\n",
        "    model=model,\n",
        "    train_ds=train_set,\n",
        "    valid_ds=valid_set,\n",
        "    configs=train_configs\n",
        ")"
      ],
      "execution_count": 0,
      "outputs": []
    },
    {
      "cell_type": "markdown",
      "metadata": {
        "id": "6DdRzlV2yNeK",
        "colab_type": "text"
      },
      "source": [
        "Reload the best trained model"
      ]
    },
    {
      "cell_type": "code",
      "metadata": {
        "id": "1j4EP3I2ywso",
        "colab_type": "code",
        "colab": {}
      },
      "source": [
        "model = keras.models.load_model(\"ann.h5\")"
      ],
      "execution_count": 0,
      "outputs": []
    },
    {
      "cell_type": "markdown",
      "metadata": {
        "id": "eI1fhXGRy1gn",
        "colab_type": "text"
      },
      "source": [
        "##### Check the predictions"
      ]
    },
    {
      "cell_type": "code",
      "metadata": {
        "id": "xxbJkHl1y6KN",
        "colab_type": "code",
        "colab": {}
      },
      "source": [
        "split_time = int(.70*len(series))\n",
        "ann_forecast = model.predict(series[np.newaxis, :, np.newaxis])\n",
        "ann_forecast = ann_forecast[0, split_time - 1:-1, 0]"
      ],
      "execution_count": 0,
      "outputs": []
    },
    {
      "cell_type": "code",
      "metadata": {
        "id": "YLH3aFTLy8x7",
        "colab_type": "code",
        "colab": {}
      },
      "source": [
        "plt.figure(figsize=(10, 6))\n",
        "plot_series(time_valid, x_valid, ann_forecast, [\"True\", \"Prediction\"])"
      ],
      "execution_count": 0,
      "outputs": []
    },
    {
      "cell_type": "code",
      "metadata": {
        "id": "OhEZr26izA4z",
        "colab_type": "code",
        "colab": {}
      },
      "source": [
        "mae[\"ann\"] = keras.metrics.mean_absolute_error(x_valid, ann_forecast).numpy()\n",
        "mae[\"ann\"]"
      ],
      "execution_count": 0,
      "outputs": []
    },
    {
      "cell_type": "markdown",
      "metadata": {
        "colab_type": "text",
        "id": "EPjK0l9P8OJM"
      },
      "source": [
        "### LSTM Model"
      ]
    },
    {
      "cell_type": "markdown",
      "metadata": {
        "id": "R-13pdLkgMk4",
        "colab_type": "text"
      },
      "source": [
        "##### Model definition"
      ]
    },
    {
      "cell_type": "code",
      "metadata": {
        "id": "sgPuf4vVwCFd",
        "colab_type": "code",
        "colab": {}
      },
      "source": [
        "def build_model(hparams, log_summary=True):\n",
        "  \n",
        "  keras.backend.clear_session()\n",
        "  tf.random.set_seed(42)\n",
        "  np.random.seed(42)\n",
        "\n",
        "  num_lstm_layers = len(hparams.LAYERS_DIM)\n",
        "\n",
        "  model = keras.models.Sequential()\n",
        "  model.add(\n",
        "      keras.layers.LSTM(hparams.LAYERS_DIM[0], return_sequences=True, stateful=True,\n",
        "                        batch_input_shape=[1, None, 1])\n",
        "  )\n",
        "  if num_lstm_layers > 1:\n",
        "    for dim in hparams.LAYERS_DIM[1:]:\n",
        "      model.add(keras.layers.LSTM(dim, return_sequences=True, stateful=True))\n",
        "\n",
        "  model.add(keras.layers.Dense(1))\n",
        "  model.add(keras.layers.Lambda(lambda x: x * 200.0))\n",
        "\n",
        "  if log_summary:\n",
        "    print(\"\\n\", model.summary(), \"\\n\")\n",
        "\n",
        "  return model"
      ],
      "execution_count": 0,
      "outputs": []
    },
    {
      "cell_type": "markdown",
      "metadata": {
        "id": "Y1jUnEBiyz5w",
        "colab_type": "text"
      },
      "source": [
        "#### Training routine"
      ]
    },
    {
      "cell_type": "code",
      "metadata": {
        "id": "wlFXRQpEchGF",
        "colab_type": "code",
        "colab": {}
      },
      "source": [
        "def compile_and_train(model, train_ds, configs, valid_ds=None):\n",
        "\n",
        "  model.compile(\n",
        "      loss=configs.LOSS,\n",
        "      optimizer=configs.OPTIMIZER,\n",
        "      metrics=configs.METRICS\n",
        "  )\n",
        "\n",
        "  history = model.fit(\n",
        "      train_ds,\n",
        "      validation_data = valid_ds,\n",
        "      epochs=configs.EPOCHS,\n",
        "      callbacks=configs.CALLBACKS\n",
        "  )\n",
        "\n",
        "  return model, history"
      ],
      "execution_count": 0,
      "outputs": []
    },
    {
      "cell_type": "markdown",
      "metadata": {
        "id": "S7vs9e16y-zq",
        "colab_type": "text"
      },
      "source": [
        "#### Build and train the model"
      ]
    },
    {
      "cell_type": "markdown",
      "metadata": {
        "id": "2S7eomUk9E1O",
        "colab_type": "text"
      },
      "source": [
        "##### Params"
      ]
    },
    {
      "cell_type": "code",
      "metadata": {
        "id": "xNmfVMLTl_Gs",
        "colab_type": "code",
        "colab": {}
      },
      "source": [
        "train_configs = TrainConfigs()\n",
        "train_configs.EPOCHS = 100\n",
        "train_configs.LOSS = keras.losses.Huber()\n",
        "train_configs.OPTIMIZER = keras.optimizers.SGD(lr=1e-8, momentum=0.9)\n",
        "train_configs.METRICS = [\"mae\"]\n",
        "train_configs.CALLBACKS = [lr_schedule(), ResetStatesCallback()]\n",
        "\n",
        "hparams = HParams()\n",
        "hparams.LAYERS_DIM = [100, 50]"
      ],
      "execution_count": 0,
      "outputs": []
    },
    {
      "cell_type": "markdown",
      "metadata": {
        "id": "Dk2ivA1T9M67",
        "colab_type": "text"
      },
      "source": [
        "##### LR fine-tuning\n",
        "Train a first model to search for the best LR ..."
      ]
    },
    {
      "cell_type": "code",
      "metadata": {
        "id": "ZGnxXonFmceO",
        "colab_type": "code",
        "colab": {}
      },
      "source": [
        "model = build_model(hparams)"
      ],
      "execution_count": 0,
      "outputs": []
    },
    {
      "cell_type": "code",
      "metadata": {
        "id": "M8mZrRvdmfbu",
        "colab_type": "code",
        "colab": {}
      },
      "source": [
        "model, history = compile_and_train(\n",
        "    model, train_set, train_configs\n",
        ")"
      ],
      "execution_count": 0,
      "outputs": []
    },
    {
      "cell_type": "markdown",
      "metadata": {
        "id": "lEPzKQyOzYvC",
        "colab_type": "text"
      },
      "source": [
        "Check the __training loss__"
      ]
    },
    {
      "cell_type": "code",
      "metadata": {
        "id": "PRZInmi0nc30",
        "colab_type": "code",
        "colab": {}
      },
      "source": [
        "plt.semilogx(history.history[\"lr\"], history.history[\"loss\"])\n",
        "#plt.axis([1e-8, 1e-4, 0, 30])"
      ],
      "execution_count": 0,
      "outputs": []
    },
    {
      "cell_type": "markdown",
      "metadata": {
        "id": "14vG9QOMDO9i",
        "colab_type": "text"
      },
      "source": [
        "##### Train the model"
      ]
    },
    {
      "cell_type": "markdown",
      "metadata": {
        "id": "spQBex4szb8y",
        "colab_type": "text"
      },
      "source": [
        "Train now the model for more epochs, on the \"_fine-tuned_\" LR"
      ]
    },
    {
      "cell_type": "code",
      "metadata": {
        "id": "HVhq8erXnrDR",
        "colab_type": "code",
        "colab": {}
      },
      "source": [
        "MODEL_NAME = \"lstm\"\n",
        "\n",
        "train_configs.EPOCHS = 500\n",
        "train_configs.OPTIMIZER = keras.optimizers.SGD(lr=1e-6, momentum=0.9)\n",
        "train_configs.CALLBACKS = [ResetStatesCallback(),\n",
        "                           model_checkpoint(MODEL_NAME),\n",
        "                           early_stopping(),\n",
        "                           tensorboard_callback(MODEL_NAME)]"
      ],
      "execution_count": 0,
      "outputs": []
    },
    {
      "cell_type": "markdown",
      "metadata": {
        "id": "eowYt4lFDxKB",
        "colab_type": "text"
      },
      "source": [
        "Load TensorBoard ..."
      ]
    },
    {
      "cell_type": "code",
      "metadata": {
        "id": "XyrSaYEYDrXN",
        "colab_type": "code",
        "colab": {}
      },
      "source": [
        "log_path = tb_log_path(MODEL_NAME)"
      ],
      "execution_count": 0,
      "outputs": []
    },
    {
      "cell_type": "code",
      "metadata": {
        "id": "s-B5t-7lD0g3",
        "colab_type": "code",
        "colab": {}
      },
      "source": [
        "%tensorboard --logdir logs"
      ],
      "execution_count": 0,
      "outputs": []
    },
    {
      "cell_type": "markdown",
      "metadata": {
        "id": "sgJlW8IxD7AZ",
        "colab_type": "text"
      },
      "source": [
        "Train"
      ]
    },
    {
      "cell_type": "code",
      "metadata": {
        "id": "-q3hYO7GoTmY",
        "colab_type": "code",
        "colab": {}
      },
      "source": [
        "model = build_model(hparams, False)\n",
        "model, history = compile_and_train(\n",
        "    model=model,\n",
        "    train_ds=train_set,\n",
        "    valid_ds=valid_set,\n",
        "    configs=train_configs\n",
        ")"
      ],
      "execution_count": 0,
      "outputs": []
    },
    {
      "cell_type": "markdown",
      "metadata": {
        "id": "NPtLwCX4zj3x",
        "colab_type": "text"
      },
      "source": [
        "Reload the best trained model"
      ]
    },
    {
      "cell_type": "code",
      "metadata": {
        "id": "wxab0RRco7oq",
        "colab_type": "code",
        "colab": {}
      },
      "source": [
        "model = keras.models.load_model(\"lstm.h5\")"
      ],
      "execution_count": 0,
      "outputs": []
    },
    {
      "cell_type": "markdown",
      "metadata": {
        "id": "HEhsitrRzohI",
        "colab_type": "text"
      },
      "source": [
        "#### Check the predictions"
      ]
    },
    {
      "cell_type": "code",
      "metadata": {
        "id": "IxTv9ryro9lt",
        "colab_type": "code",
        "colab": {}
      },
      "source": [
        "split_time = int(.70*len(series))\n",
        "rnn_forecast = model.predict(series[np.newaxis, :, np.newaxis])\n",
        "rnn_forecast = rnn_forecast[0, split_time - 1:-1, 0]"
      ],
      "execution_count": 0,
      "outputs": []
    },
    {
      "cell_type": "code",
      "metadata": {
        "id": "euSWks5Co_y_",
        "colab_type": "code",
        "colab": {}
      },
      "source": [
        "plt.figure(figsize=(10, 6))\n",
        "plot_series(time_valid, x_valid, rnn_forecast, [\"True\", \"Prediction\"])"
      ],
      "execution_count": 0,
      "outputs": []
    },
    {
      "cell_type": "code",
      "metadata": {
        "id": "Zc0x79qUpBu2",
        "colab_type": "code",
        "colab": {}
      },
      "source": [
        "mae[\"lstm\"] = keras.metrics.mean_absolute_error(x_valid, rnn_forecast).numpy()\n",
        "mae[\"lstm\"]"
      ],
      "execution_count": 0,
      "outputs": []
    },
    {
      "cell_type": "markdown",
      "metadata": {
        "id": "rjKgGf_oHSAR",
        "colab_type": "text"
      },
      "source": [
        "### CNN Model"
      ]
    },
    {
      "cell_type": "markdown",
      "metadata": {
        "id": "d87gX2OMHf6v",
        "colab_type": "text"
      },
      "source": [
        "#### Model definition"
      ]
    },
    {
      "cell_type": "code",
      "metadata": {
        "id": "3-gs1ejsH_cn",
        "colab_type": "code",
        "colab": {}
      },
      "source": [
        "def build_model(hparams, log_summary=True):\n",
        "  \n",
        "  keras.backend.clear_session()\n",
        "  tf.random.set_seed(42)\n",
        "  np.random.seed(42)\n",
        "\n",
        "  num_layers = len(hparams.FILTERS)\n",
        "  print(num_layers)\n",
        "\n",
        "  model = keras.models.Sequential()\n",
        "  model.add(\n",
        "      keras.layers.Conv1D(filters=hparams.FILTERS[0],\n",
        "                          kernel_size=hparams.KERNEL_SIZE[0],\n",
        "                          strides=hparams.STRIDES,\n",
        "                          padding=\"causal\",\n",
        "                          activation=\"relu\",\n",
        "                          input_shape=[None, 1])\n",
        "  )\n",
        "  if num_layers > 1:\n",
        "    for dim in range(1, num_layers):\n",
        "      model.add(keras.layers.Conv1D(filters=hparams.FILTERS[dim],\n",
        "                                    kernel_size=hparams.KERNEL_SIZE[dim],\n",
        "                                    strides=hparams.STRIDES,\n",
        "                                    padding=\"causal\",\n",
        "                                    activation=\"relu\"))\n",
        "\n",
        "  model.add(keras.layers.Dense(1))\n",
        "  model.add(keras.layers.Lambda(lambda x: x * 200.0))\n",
        "\n",
        "  if log_summary:\n",
        "    print(\"\\n\", model.summary(), \"\\n\")\n",
        "\n",
        "  return model"
      ],
      "execution_count": 0,
      "outputs": []
    },
    {
      "cell_type": "markdown",
      "metadata": {
        "id": "R8GP_vnkHi4g",
        "colab_type": "text"
      },
      "source": [
        "#### Training routine"
      ]
    },
    {
      "cell_type": "markdown",
      "metadata": {
        "id": "01pyeDtCHnVf",
        "colab_type": "text"
      },
      "source": [
        "#### Build and train the model"
      ]
    },
    {
      "cell_type": "markdown",
      "metadata": {
        "id": "spYWT8TbHqZA",
        "colab_type": "text"
      },
      "source": [
        "##### Params"
      ]
    },
    {
      "cell_type": "code",
      "metadata": {
        "id": "Qvqn_CbUJVFv",
        "colab_type": "code",
        "colab": {}
      },
      "source": [
        "train_configs = TrainConfigs()\n",
        "train_configs.EPOCHS = 100\n",
        "train_configs.LOSS = keras.losses.Huber()\n",
        "train_configs.OPTIMIZER = keras.optimizers.SGD(lr=1e-8, momentum=0.9)\n",
        "train_configs.METRICS = [\"mae\"]\n",
        "train_configs.CALLBACKS = [lr_schedule()]\n",
        "\n",
        "hparams = HParams()\n",
        "hparams.FILTERS = [32, 32]\n",
        "hparams.KERNEL_SIZE = [5, 5]\n",
        "hparams.STRIDES = 1"
      ],
      "execution_count": 0,
      "outputs": []
    },
    {
      "cell_type": "markdown",
      "metadata": {
        "id": "2sP-IrtNHtXM",
        "colab_type": "text"
      },
      "source": [
        "##### LR fine-tuning"
      ]
    },
    {
      "cell_type": "code",
      "metadata": {
        "id": "caMTf0wEJzaQ",
        "colab_type": "code",
        "colab": {}
      },
      "source": [
        "model = build_model(hparams)"
      ],
      "execution_count": 0,
      "outputs": []
    },
    {
      "cell_type": "code",
      "metadata": {
        "id": "KQ_j0vpfJ9UA",
        "colab_type": "code",
        "colab": {}
      },
      "source": [
        "model, history = compile_and_train(\n",
        "    model, train_set, train_configs\n",
        ")"
      ],
      "execution_count": 0,
      "outputs": []
    },
    {
      "cell_type": "markdown",
      "metadata": {
        "id": "35z83IEZKOuM",
        "colab_type": "text"
      },
      "source": [
        "Check the __training loss__."
      ]
    },
    {
      "cell_type": "code",
      "metadata": {
        "id": "csWJghIiKH1C",
        "colab_type": "code",
        "colab": {}
      },
      "source": [
        "plt.semilogx(history.history[\"lr\"], history.history[\"loss\"])\n",
        "plt.axis([1e-8, 1e-4, 0, 100])"
      ],
      "execution_count": 0,
      "outputs": []
    },
    {
      "cell_type": "markdown",
      "metadata": {
        "id": "IVM6fqitHwb5",
        "colab_type": "text"
      },
      "source": [
        "##### Train the model\n",
        "\n",
        "Train now the model for more epochs, on the \"_fine-tuned_\" LR"
      ]
    },
    {
      "cell_type": "code",
      "metadata": {
        "id": "2xuHQTzhKbg-",
        "colab_type": "code",
        "colab": {}
      },
      "source": [
        "MODEL_NAME = \"cnn\"\n",
        "\n",
        "train_configs.EPOCHS = 500\n",
        "train_configs.OPTIMIZER = keras.optimizers.SGD(lr=3e-6, momentum=0.9)\n",
        "train_configs.CALLBACKS = [model_checkpoint(MODEL_NAME),\n",
        "                           early_stopping(),\n",
        "                           tensorboard_callback(MODEL_NAME)]"
      ],
      "execution_count": 0,
      "outputs": []
    },
    {
      "cell_type": "markdown",
      "metadata": {
        "id": "sxHHE72FK2W9",
        "colab_type": "text"
      },
      "source": [
        "Load TensorBoard ..."
      ]
    },
    {
      "cell_type": "code",
      "metadata": {
        "id": "sYJqT-2HK5fm",
        "colab_type": "code",
        "colab": {}
      },
      "source": [
        "log_path = tb_log_path(MODEL_NAME)"
      ],
      "execution_count": 0,
      "outputs": []
    },
    {
      "cell_type": "code",
      "metadata": {
        "id": "vq4Fk6NDK6Zo",
        "colab_type": "code",
        "colab": {}
      },
      "source": [
        "%tensorboard --logdir logs"
      ],
      "execution_count": 0,
      "outputs": []
    },
    {
      "cell_type": "markdown",
      "metadata": {
        "id": "bseceB90LAxn",
        "colab_type": "text"
      },
      "source": [
        "Train"
      ]
    },
    {
      "cell_type": "code",
      "metadata": {
        "id": "l-PN9ne-LB5P",
        "colab_type": "code",
        "colab": {}
      },
      "source": [
        "model = build_model(hparams, False)\n",
        "model, history = compile_and_train(\n",
        "    model=model,\n",
        "    train_ds=train_set,\n",
        "    valid_ds=valid_set,\n",
        "    configs=train_configs\n",
        ")"
      ],
      "execution_count": 0,
      "outputs": []
    },
    {
      "cell_type": "markdown",
      "metadata": {
        "id": "UCUD1WJFLHY2",
        "colab_type": "text"
      },
      "source": [
        "Reload the best trained model"
      ]
    },
    {
      "cell_type": "code",
      "metadata": {
        "id": "rYNQR8xyLKLw",
        "colab_type": "code",
        "colab": {}
      },
      "source": [
        "model = keras.models.load_model(\"cnn.h5\")"
      ],
      "execution_count": 0,
      "outputs": []
    },
    {
      "cell_type": "markdown",
      "metadata": {
        "id": "F_2NkGZYHzLS",
        "colab_type": "text"
      },
      "source": [
        "##### Check the prediction"
      ]
    },
    {
      "cell_type": "code",
      "metadata": {
        "id": "7mugxfO4LQaz",
        "colab_type": "code",
        "colab": {}
      },
      "source": [
        "split_time = int(.70*len(series))\n",
        "cnn_forecast = model.predict(series[np.newaxis, :, np.newaxis])\n",
        "cnn_forecast = cnn_forecast[0, split_time - 1:-1, 0]"
      ],
      "execution_count": 0,
      "outputs": []
    },
    {
      "cell_type": "code",
      "metadata": {
        "id": "cNqCd7NNLluY",
        "colab_type": "code",
        "colab": {}
      },
      "source": [
        "plt.figure(figsize=(10, 6))\n",
        "plot_series(time_valid, x_valid, cnn_forecast, [\"True\", \"Prediction\"])"
      ],
      "execution_count": 0,
      "outputs": []
    },
    {
      "cell_type": "code",
      "metadata": {
        "id": "LxoZa7M6LsUp",
        "colab_type": "code",
        "colab": {}
      },
      "source": [
        "mae[\"cnn\"] = keras.metrics.mean_absolute_error(x_valid, cnn_forecast).numpy()\n",
        "mae[\"cnn\"]"
      ],
      "execution_count": 0,
      "outputs": []
    },
    {
      "cell_type": "markdown",
      "metadata": {
        "id": "V6IYJnhdG5-Q",
        "colab_type": "text"
      },
      "source": [
        "### Comparison"
      ]
    },
    {
      "cell_type": "code",
      "metadata": {
        "id": "CCyeVdd5rRva",
        "colab_type": "code",
        "colab": {}
      },
      "source": [
        "comparison = pd.DataFrame(list(mae.items()), columns=[\"Model\", \"MAE\"])\n",
        "#comparison = comparison.set_index(\"Model\")\n",
        "comparison"
      ],
      "execution_count": 0,
      "outputs": []
    },
    {
      "cell_type": "code",
      "metadata": {
        "id": "OzLOFB1O8Knd",
        "colab_type": "code",
        "colab": {}
      },
      "source": [
        ""
      ],
      "execution_count": 0,
      "outputs": []
    }
  ]
}